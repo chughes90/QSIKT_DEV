{
 "cells": [
  {
   "cell_type": "code",
   "execution_count": 1,
   "metadata": {},
   "outputs": [],
   "source": [
    "#initialization\n",
    "import matplotlib.pyplot as plt\n",
    "%matplotlib inline\n",
    "import numpy as np\n",
    "\n",
    "# importing Qiskit\n",
    "from qiskit import IBMQ, BasicAer\n",
    "from qiskit.providers.ibmq import least_busy\n",
    "from qiskit import QuantumCircuit, ClassicalRegister, QuantumRegister, execute\n",
    "\n",
    "# import basic plot tools\n",
    "from qiskit.tools.visualization import plot_histogram"
   ]
  },
  {
   "cell_type": "code",
   "execution_count": 2,
   "metadata": {},
   "outputs": [],
   "source": [
    "#We now implement Simon's algorithm for the above example for  2 -qubits with a  s=11 ."
   ]
  },
  {
   "cell_type": "code",
   "execution_count": 3,
   "metadata": {},
   "outputs": [],
   "source": [
    "s = '11'"
   ]
  },
  {
   "cell_type": "code",
   "execution_count": 4,
   "metadata": {},
   "outputs": [],
   "source": [
    "# Creating registers\n",
    "# qubits for querying the oracle and finding the hidden period s\n",
    "qr = QuantumRegister(2*len(str(s)))\n",
    "# classical registers for recording the measurement from qr\n",
    "cr = ClassicalRegister(2*len(str(s)))\n",
    "\n",
    "simonCircuit = QuantumCircuit(qr, cr)\n",
    "barriers = True\n",
    "\n",
    "# Apply Hadamard gates before querying the oracle\n",
    "for i in range(len(str(s))):\n",
    "    simonCircuit.h(qr[i])    \n",
    "    \n",
    "# Apply barrier \n",
    "if barriers:\n",
    "    simonCircuit.barrier()\n",
    "\n",
    "# Apply the query function\n",
    "## 2-qubit oracle for s = 11\n",
    "simonCircuit.cx(qr[0], qr[len(str(s)) + 0])\n",
    "simonCircuit.cx(qr[0], qr[len(str(s)) + 1])\n",
    "simonCircuit.cx(qr[1], qr[len(str(s)) + 0])\n",
    "simonCircuit.cx(qr[1], qr[len(str(s)) + 1])  \n",
    "\n",
    "# Apply barrier \n",
    "if barriers:\n",
    "    simonCircuit.barrier()\n",
    "\n",
    "# Measure ancilla qubits\n",
    "for i in range(len(str(s)), 2*len(str(s))):\n",
    "    simonCircuit.measure(qr[i], cr[i])\n",
    "\n",
    "# Apply barrier \n",
    "if barriers:\n",
    "    simonCircuit.barrier()\n",
    "\n",
    "# Apply Hadamard gates to the input register\n",
    "for i in range(len(str(s))):\n",
    "    simonCircuit.h(qr[i])\n",
    "\n",
    "# Apply barrier \n",
    "if barriers:\n",
    "    simonCircuit.barrier()\n",
    "\n",
    "# Measure input register\n",
    "for i in range(len(str(s))):\n",
    "    simonCircuit.measure(qr[i], cr[i])"
   ]
  },
  {
   "cell_type": "code",
   "execution_count": 5,
   "metadata": {},
   "outputs": [
    {
     "data": {
      "image/png": "[encoded data removed]",
      "text/plain": [
       "<Figure size 1010.16x325.08 with 1 Axes>"
      ]
     },
     "execution_count": 5,
     "metadata": {},
     "output_type": "execute_result"
    }
   ],
   "source": [
    "simonCircuit.draw(output='mpl')"
   ]
  },
  {
   "cell_type": "code",
   "execution_count": 6,
   "metadata": {},
   "outputs": [
    {
     "name": "stdout",
     "output_type": "stream",
     "text": [
      "{'00': 499, '11': 525}\n"
     ]
    },
    {
     "data": {
      "image/png": "[encoded data removed]",
      "text/plain": [
       "<Figure size 504x360 with 1 Axes>"
      ]
     },
     "execution_count": 6,
     "metadata": {},
     "output_type": "execute_result"
    }
   ],
   "source": [
    "backend = BasicAer.get_backend('qasm_simulator')\n",
    "shots = 1024\n",
    "results = execute(simonCircuit, backend=backend, shots=shots).result()\n",
    "answer = results.get_counts()\n",
    "\n",
    "# Categorize measurements by input register values\n",
    "answer_plot = {}\n",
    "for measresult in answer.keys():\n",
    "    measresult_input = measresult[len(str(s)):]\n",
    "    if measresult_input in answer_plot:\n",
    "        answer_plot[measresult_input] += answer[measresult]\n",
    "    else:\n",
    "        answer_plot[measresult_input] = answer[measresult] \n",
    "\n",
    "# Plot the categorized results\n",
    "print( answer_plot )\n",
    "plot_histogram(answer_plot)"
   ]
  },
  {
   "cell_type": "code",
   "execution_count": 7,
   "metadata": {},
   "outputs": [
    {
     "name": "stdout",
     "output_type": "stream",
     "text": [
      "s, z, s.z (mod 2)\n",
      "11, 00, 11.00=0\n",
      "11, 11, 11.11=0\n"
     ]
    }
   ],
   "source": [
    "# Calculate the dot product of the results\n",
    "def sdotz(a, b):\n",
    "    accum = 0\n",
    "    for i in range(len(a)):\n",
    "        accum += int(a[i]) * int(b[i])\n",
    "    return (accum % 2)\n",
    "\n",
    "print('s, z, s.z (mod 2)')\n",
    "for z_rev in answer_plot:\n",
    "    z = z_rev[::-1]\n",
    "    print( '{}, {}, {}.{}={}'.format(s, z, s,z,sdotz(s,z)) )"
   ]
  },
  {
   "cell_type": "code",
   "execution_count": 8,
   "metadata": {},
   "outputs": [
    {
     "name": "stdout",
     "output_type": "stream",
     "text": [
      "least busy backend:  ibmq_burlington\n"
     ]
    }
   ],
   "source": [
    "IBMQ.load_account()\n",
    "provider = IBMQ.get_provider(hub='ibm-q')\n",
    "provider.backends()\n",
    "backend = least_busy(provider.backends(filters=lambda x: x.configuration().n_qubits <= 5 and \n",
    "                                   not x.configuration().simulator and x.status().operational==True))\n",
    "print(\"least busy backend: \", backend)"
   ]
  },
  {
   "cell_type": "code",
   "execution_count": 9,
   "metadata": {},
   "outputs": [
    {
     "name": "stdout",
     "output_type": "stream",
     "text": [
      "Job Status: job has successfully run\n"
     ]
    }
   ],
   "source": [
    "# Run our circuit on the least busy backend. Monitor the execution of the job in the queue\n",
    "from qiskit.tools.monitor import job_monitor\n",
    "\n",
    "shots = 1024\n",
    "job = execute(simonCircuit, backend=backend, shots=shots)\n",
    "\n",
    "job_monitor(job, interval = 2)"
   ]
  },
  {
   "cell_type": "code",
   "execution_count": 10,
   "metadata": {},
   "outputs": [
    {
     "name": "stdout",
     "output_type": "stream",
     "text": [
      "{'00': 499, '11': 525}\n"
     ]
    },
    {
     "data": {
      "image/png": "[encoded data removed]",
      "text/plain": [
       "<Figure size 504x360 with 1 Axes>"
      ]
     },
     "execution_count": 10,
     "metadata": {},
     "output_type": "execute_result"
    }
   ],
   "source": [
    "# Categorize measurements by input register values\n",
    "answer_plot = {}\n",
    "for measresult in answer.keys():\n",
    "    measresult_input = measresult[len(str(s)):]\n",
    "    if measresult_input in answer_plot:\n",
    "        answer_plot[measresult_input] += answer[measresult]\n",
    "    else:\n",
    "        answer_plot[measresult_input] = answer[measresult] \n",
    "\n",
    "# Plot the categorized results\n",
    "print( answer_plot )\n",
    "plot_histogram(answer_plot)"
   ]
  },
  {
   "cell_type": "code",
   "execution_count": 11,
   "metadata": {},
   "outputs": [
    {
     "name": "stdout",
     "output_type": "stream",
     "text": [
      "s, z, s.z (mod 2)\n",
      "11, 00, 11.00=0\n",
      "11, 11, 11.11=0\n"
     ]
    }
   ],
   "source": [
    "# Calculate the dot product of the most significant results\n",
    "print('s, z, s.z (mod 2)')\n",
    "for z_rev in answer_plot:\n",
    "    if answer_plot[z_rev] >= 0.1*shots:\n",
    "        z = z_rev[::-1]\n",
    "        print( '{}, {}, {}.{}={}'.format(s, z, s,z,sdotz(s,z)) )"
   ]
  },
  {
   "cell_type": "code",
   "execution_count": null,
   "metadata": {},
   "outputs": [],
   "source": []
  }
 ],
 "metadata": {
  "kernelspec": {
   "display_name": "Python 3",
   "language": "python",
   "name": "python3"
  },
  "language_info": {
   "codemirror_mode": {
    "name": "ipython",
    "version": 3
   },
   "file_extension": ".py",
   "mimetype": "text/x-python",
   "name": "python",
   "nbconvert_exporter": "python",
   "pygments_lexer": "ipython3",
   "version": "3.7.4"
  }
 },
 "nbformat": 4,
 "nbformat_minor": 4
}
