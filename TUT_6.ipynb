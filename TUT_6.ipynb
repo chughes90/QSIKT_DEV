{
 "cells": [
  {
   "cell_type": "code",
   "execution_count": 1,
   "metadata": {},
   "outputs": [],
   "source": [
    "#IMPORTS\n",
    "import qiskit\n",
    "import numpy as np\n",
    "from qiskit import *\n",
    "from qiskit.visualization import plot_histogram\n",
    "from qiskit.visualization import plot_bloch_vector"
   ]
  },
  {
   "cell_type": "code",
   "execution_count": 3,
   "metadata": {},
   "outputs": [
    {
     "data": {
      "image/png": "[encoded data removed]",
      "text/plain": [
       "<Figure size 276.92x144.48 with 1 Axes>"
      ]
     },
     "execution_count": 3,
     "metadata": {},
     "output_type": "execute_result"
    }
   ],
   "source": [
    "# set up circuit (no measurements required)\n",
    "qc = QuantumCircuit(2)\n",
    "qc.h(0)\n",
    "qc.h(1)\n",
    "qc.rz(3.14/4,1)\n",
    "\n",
    "qc.draw(output='mpl') #draw the circuit"
   ]
  },
  {
   "cell_type": "code",
   "execution_count": 4,
   "metadata": {},
   "outputs": [
    {
     "data": {
      "text/markdown": [
       "\\begin{pmatrix}(0.5000000000000001+0j)\\\\(0.5000000000000001+0j)\\\\(0.35369413458359994+0.35341259055268304j)\\\\(0.35369413458359994+0.35341259055268304\\end{pmatrix}"
      ],
      "text/plain": [
       "<IPython.core.display.Markdown object>"
      ]
     },
     "metadata": {},
     "output_type": "display_data"
    }
   ],
   "source": [
    "# set up simulator that returns statevectors\n",
    "backend = Aer.get_backend('statevector_simulator')\n",
    "\n",
    "# run the circuit to get the state vector\n",
    "state = execute(qc,backend).result().get_statevector()\n",
    "\n",
    "# now we use some fanciness to display it in latex\n",
    "from IPython.display import display, Markdown, Latex\n",
    "def state2latex(state):\n",
    "    state_latex = '\\\\begin{pmatrix}'\n",
    "    for amplitude in state:\n",
    "        state_latex += str(amplitude) + '\\\\\\\\'\n",
    "    state_latex  = state_latex[0:-4]\n",
    "    state_latex += '\\end{pmatrix}'\n",
    "    display(Markdown(state_latex))\n",
    "\n",
    "state2latex(state)"
   ]
  },
  {
   "cell_type": "code",
   "execution_count": null,
   "metadata": {},
   "outputs": [],
   "source": []
  }
 ],
 "metadata": {
  "kernelspec": {
   "display_name": "Python 3",
   "language": "python",
   "name": "python3"
  },
  "language_info": {
   "codemirror_mode": {
    "name": "ipython",
    "version": 3
   },
   "file_extension": ".py",
   "mimetype": "text/x-python",
   "name": "python",
   "nbconvert_exporter": "python",
   "pygments_lexer": "ipython3",
   "version": "3.7.4"
  }
 },
 "nbformat": 4,
 "nbformat_minor": 4
}
