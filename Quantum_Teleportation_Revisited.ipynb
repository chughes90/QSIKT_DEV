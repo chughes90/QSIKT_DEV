{
 "cells": [
  {
   "cell_type": "code",
   "execution_count": 1,
   "metadata": {},
   "outputs": [],
   "source": [
    "# make the imports that are necessary for our work\n",
    "import qiskit as qk\n",
    "from qiskit import ClassicalRegister, QuantumRegister, QuantumCircuit\n",
    "from qiskit import execute, Aer\n",
    "from qiskit import IBMQ\n",
    "from qiskit.tools.visualization import plot_histogram"
   ]
  },
  {
   "cell_type": "code",
   "execution_count": 2,
   "metadata": {},
   "outputs": [],
   "source": [
    "#Step 1: Alice and Bob create an entangled pair of qubits \n",
    "#and each one of them holds on to one of the two qubits in the pair.\n",
    "\n",
    "#The pair they create is a special pair called a Bell pair. \n",
    "#In quantum circuit language, the way to create a Bell pair between two qubits is to first transfer \n",
    "#one of them to the Bell basis ( |+⟩  and  |−⟩ ) by using a Hadamard gate, \n",
    "#and then to apply a CNOT gate onto the other qubit controlled by the one in the Bell basis.\n",
    "\n",
    "#Let's say Alice owns  q1  and Bob owns  q2  after they part ways.\n",
    "\n",
    "#Step 2: Alice applies a CNOT gate on  q1 , controlled by  |ψ⟩  (the qubit she is trying to send Bob).\n",
    "\n",
    "#Step 3: Next, Alice applies a Hadamard gate to  |ψ⟩ , and applies a measurement\n",
    "#to both qubits that she owns -  q1  and  |ψ⟩ .\n",
    "\n",
    "#Step 4: Then, it's time for a phone call to Bob. \n",
    "#She tells Bob the outcome of her two qubit measurement. \n",
    "#Depending on what she says, Bob applies some gates to his qubit,  q2 . \n",
    "#The gates to be applied, based on what Alice says, are as follows :\n",
    "\n",
    "#00  →  Do nothing (Identity Gate)\n",
    "\n",
    "#01  →  Apply  X  gate\n",
    "\n",
    "#10  →  Apply  Z  gate\n",
    "\n",
    "#11  →  Apply  ZX  gate\n",
    "\n",
    "#Note that this transfer of information is classical.\n",
    "\n",
    "#And voila! At the end of this protocol, Alice's qubit has now teleported to Bob."
   ]
  },
  {
   "cell_type": "code",
   "execution_count": 3,
   "metadata": {},
   "outputs": [],
   "source": [
    "# simple function that applies a series of unitary gates from a given string\n",
    "def apply_secret_unitary(secret_unitary, qubit, quantum_circuit, dagger):\n",
    "    functionmap = {\n",
    "                    'x':quantum_circuit.x, #add x gate to quantum circuit\n",
    "                    'y':quantum_circuit.y, #add y gate to quantum circuit\n",
    "                    'z':quantum_circuit.z, #add z gate to quantum circuit\n",
    "                    'h':quantum_circuit.h, #add h gate to quantum cicruit                   \n",
    "                    't':quantum_circuit.t, #add t gate to quantum circuit                   \n",
    "    }\n",
    "    if dagger: functionmap['t'] = quantum_circuit.tdg #if dagger, apply tdg gate\n",
    "    \n",
    "    if dagger:\n",
    "        [functionmap[unitary](qubit) for unitary in secret_unitary] #apply to function to qbit\n",
    "    else:\n",
    "        [functionmap[unitary](qubit) for unitary in secret_unitary[::-1]] #apply inverse function to qbit"
   ]
  },
  {
   "cell_type": "code",
   "execution_count": 4,
   "metadata": {},
   "outputs": [],
   "source": [
    "secret_unitary = 'hz'"
   ]
  },
  {
   "cell_type": "code",
   "execution_count": 14,
   "metadata": {},
   "outputs": [
    {
     "data": {
      "text/plain": [
       "<qiskit.circuit.instructionset.InstructionSet at 0x2477c0c8>"
      ]
     },
     "execution_count": 14,
     "metadata": {},
     "output_type": "execute_result"
    }
   ],
   "source": [
    "# Create the quantum circuit\n",
    "q = QuantumRegister(3) #3 qbits\n",
    "c = ClassicalRegister(3) #3 clasical bit\n",
    "qc = QuantumCircuit(q, c) #add them qbits to the classical bits\n",
    "\n",
    "''' Qubit ordering as follows (classical registers will just contain measured values of the corresponding qubits):\n",
    "q[0]: qubit to be teleported (Alice's first qubit. It was given to her after the application of a secret unitary \n",
    "      which she doesn't know)\n",
    "q[1]: Alice's second qubit\n",
    "q[2]: Bob's qubit, which will be the destination for the teleportation\n",
    "'''\n",
    "\n",
    "# Apply the secret unitary that we are using to generate the state to teleport. You can change it to any unitary\n",
    "qc.x(q[0]) #use this line to make alice''s qbit 1\n",
    "apply_secret_unitary(secret_unitary, q[0], qc, dagger = 0)\n",
    "qc.barrier()\n",
    "# Next, generate the entangled pair between Alice and Bob (Remember: Hadamard followed by CX generates a Bell pair)\n",
    "qc.h(q[1])\n",
    "qc.cx(q[1], q[2])\n",
    "qc.barrier()\n",
    "# Next, apply the teleportation protocol. \n",
    "qc.cx(q[0], q[1])\n",
    "qc.h(q[0])\n",
    "qc.measure(q[0], c[0])\n",
    "qc.measure(q[1], c[1])\n",
    "qc.cx(q[1], q[2])\n",
    "qc.cz(q[0], q[2])\n",
    "qc.barrier()\n",
    "\n",
    "'''\n",
    "In principle, if the teleportation protocol worked, we have q[2] = secret_unitary|0>\n",
    "As a result, we should be able to recover q[2] = |0> by applying the reverse of secret_unitary\n",
    "since for a unitary u, u^dagger u = I.\n",
    "'''\n",
    "apply_secret_unitary(secret_unitary, q[2], qc, dagger=1)\n",
    "qc.measure(q[2], c[2])"
   ]
  },
  {
   "cell_type": "code",
   "execution_count": 15,
   "metadata": {},
   "outputs": [
    {
     "data": {
      "image/png": "[encoded data removed]",
      "text/plain": [
       "<Figure size 1130.56x264.88 with 1 Axes>"
      ]
     },
     "execution_count": 15,
     "metadata": {},
     "output_type": "execute_result"
    }
   ],
   "source": [
    "qc.draw(output='mpl')"
   ]
  },
  {
   "cell_type": "code",
   "execution_count": 16,
   "metadata": {},
   "outputs": [
    {
     "name": "stdout",
     "output_type": "stream",
     "text": [
      "{'110': 24951, '101': 25035, '100': 25104, '111': 24934}\n"
     ]
    },
    {
     "data": {
      "image/png": "[encoded data removed]",
      "text/plain": [
       "<Figure size 504x360 with 1 Axes>"
      ]
     },
     "execution_count": 16,
     "metadata": {},
     "output_type": "execute_result"
    }
   ],
   "source": [
    "backend = Aer.get_backend('qasm_simulator')\n",
    "job_sim = execute(qc, backend, shots=100024)\n",
    "sim_result = job_sim.result()\n",
    "\n",
    "measurement_result = sim_result.get_counts(qc)\n",
    "print(measurement_result)\n",
    "plot_histogram(measurement_result)"
   ]
  },
  {
   "cell_type": "code",
   "execution_count": 17,
   "metadata": {},
   "outputs": [],
   "source": [
    "#Note that the results on the x-axis in the histogram above are ordered as  c2c1c0 . \n",
    "#We can see that only results where  c2=0  appear, \n",
    "#indicating that the teleporation protocol has worked."
   ]
  },
  {
   "cell_type": "code",
   "execution_count": 9,
   "metadata": {},
   "outputs": [
    {
     "data": {
      "text/plain": [
       "[<IBMQSimulator('ibmq_qasm_simulator') from IBMQ(hub='ibm-q', group='open', project='main')>,\n",
       " <IBMQBackend('ibmqx2') from IBMQ(hub='ibm-q', group='open', project='main')>,\n",
       " <IBMQBackend('ibmq_16_melbourne') from IBMQ(hub='ibm-q', group='open', project='main')>,\n",
       " <IBMQBackend('ibmq_vigo') from IBMQ(hub='ibm-q', group='open', project='main')>,\n",
       " <IBMQBackend('ibmq_ourense') from IBMQ(hub='ibm-q', group='open', project='main')>,\n",
       " <IBMQBackend('ibmq_london') from IBMQ(hub='ibm-q', group='open', project='main')>,\n",
       " <IBMQBackend('ibmq_burlington') from IBMQ(hub='ibm-q', group='open', project='main')>,\n",
       " <IBMQBackend('ibmq_essex') from IBMQ(hub='ibm-q', group='open', project='main')>]"
      ]
     },
     "execution_count": 9,
     "metadata": {},
     "output_type": "execute_result"
    }
   ],
   "source": [
    "# First, see what devices we are allowed to use by loading our saved accounts\n",
    "IBMQ.load_account()\n",
    "provider=IBMQ.get_provider(hub='ibm-q')\n",
    "provider.backends()"
   ]
  },
  {
   "cell_type": "code",
   "execution_count": 18,
   "metadata": {},
   "outputs": [
    {
     "name": "stdout",
     "output_type": "stream",
     "text": [
      "{'000': 531, '010': 654, '001': 376, '111': 931, '101': 1396, '011': 410, '100': 2343, '110': 1551}\n"
     ]
    },
    {
     "data": {
      "image/png": "[encoded data removed]",
      "text/plain": [
       "<Figure size 504x360 with 1 Axes>"
      ]
     },
     "execution_count": 18,
     "metadata": {},
     "output_type": "execute_result"
    }
   ],
   "source": [
    "# get the least-busy backend at IBM and run the quantum circuit there\n",
    "from qiskit.providers.ibmq import least_busy\n",
    "backend = least_busy(provider.backends(simulator=False))\n",
    "job_exp = execute(qc, backend=backend, shots=8192)\n",
    "exp_result = job_exp.result()\n",
    "\n",
    "exp_measurement_result = exp_result.get_counts(qc)\n",
    "print(exp_measurement_result)\n",
    "plot_histogram(exp_measurement_result)"
   ]
  },
  {
   "cell_type": "code",
   "execution_count": 12,
   "metadata": {},
   "outputs": [],
   "source": [
    "#As we see here, there are a few results that contain the case when  c2=1 \n",
    "#in a real quantum computer. These arise due to errors in the gates that were applied. \n",
    "#Another source of error is the way we're checking for teleportation - we need the series of operators on  \n",
    "#q2  to be exactly the inverse unitary of those that we applied to  q0  at the beginning.'''"
   ]
  },
  {
   "cell_type": "code",
   "execution_count": 21,
   "metadata": {},
   "outputs": [
    {
     "name": "stdout",
     "output_type": "stream",
     "text": [
      "The experimental error rate :  24.06005859375 %\n"
     ]
    }
   ],
   "source": [
    "error_rate_percent = sum([exp_measurement_result[result] for result in exp_measurement_result.keys() if result[0]=='0']) \\\n",
    "                    * 100./ sum(list(exp_measurement_result.values()))\n",
    "print(\"The experimental error rate : \", error_rate_percent, \"%\")"
   ]
  },
  {
   "cell_type": "code",
   "execution_count": null,
   "metadata": {},
   "outputs": [],
   "source": []
  }
 ],
 "metadata": {
  "kernelspec": {
   "display_name": "Python 3",
   "language": "python",
   "name": "python3"
  },
  "language_info": {
   "codemirror_mode": {
    "name": "ipython",
    "version": 3
   },
   "file_extension": ".py",
   "mimetype": "text/x-python",
   "name": "python",
   "nbconvert_exporter": "python",
   "pygments_lexer": "ipython3",
   "version": "3.7.4"
  }
 },
 "nbformat": 4,
 "nbformat_minor": 4
}
