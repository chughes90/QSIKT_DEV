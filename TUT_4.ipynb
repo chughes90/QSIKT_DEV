{
 "cells": [
  {
   "cell_type": "code",
   "execution_count": 1,
   "metadata": {},
   "outputs": [],
   "source": [
    "#IMPORTS\n",
    "import qiskit\n",
    "import numpy as np\n",
    "from qiskit import *\n",
    "from qiskit.visualization import plot_histogram"
   ]
  },
  {
   "cell_type": "code",
   "execution_count": 3,
   "metadata": {},
   "outputs": [
    {
     "data": {
      "image/png": "[encoded data removed]",
      "text/plain": [
       "<Figure size 173.376x144.48 with 1 Axes>"
      ]
     },
     "execution_count": 3,
     "metadata": {},
     "output_type": "execute_result"
    }
   ],
   "source": [
    "# z measurement of qubit 0\n",
    "measure_z = QuantumCircuit(1,1) #make a quantum circuit with a 1 qbit register and 1 classical bit register\n",
    "measure_z.measure(0,0); #map the 0th qbit to the 0th classical bit\n",
    "measure_z.draw(output='mpl')\n"
   ]
  },
  {
   "cell_type": "code",
   "execution_count": 4,
   "metadata": {},
   "outputs": [
    {
     "data": {
      "image/png": "[encoded data removed]",
      "text/plain": [
       "<Figure size 233.576x144.48 with 1 Axes>"
      ]
     },
     "execution_count": 4,
     "metadata": {},
     "output_type": "execute_result"
    }
   ],
   "source": [
    "# x measurement of qubit 0 \n",
    "measure_x = QuantumCircuit(1,1) #make a quantum circuit with a 1 qbit register and 1 classical bit register\n",
    "measure_x.h(0) #add a hadamrd gate to the 0th qbit\n",
    "measure_x.measure(0,0); #map the 0th qbit to the 0th classical bit\n",
    "measure_x.draw(output='mpl')"
   ]
  },
  {
   "cell_type": "code",
   "execution_count": 87,
   "metadata": {},
   "outputs": [
    {
     "data": {
      "image/png": "[encoded data removed]",
      "text/plain": [
       "<Figure size 414.176x144.48 with 1 Axes>"
      ]
     },
     "execution_count": 87,
     "metadata": {},
     "output_type": "execute_result"
    }
   ],
   "source": [
    "qc = QuantumCircuit(1,1)\n",
    "\n",
    "qc.h(0) # the hadamard at qbit 0\n",
    "\n",
    "qc.x(0) # x gate at qbit 0\n",
    "\n",
    "qc.y(0) # y gate at qbit 0\n",
    "\n",
    "qc.z(0) # z gate at qbit 0\n",
    "\n",
    "# for the following, replace theta by any number\n",
    "theta = 3.14159/4 #pi/4\n",
    "qc.ry(theta,0); # y axis rotation #add an ry gate at qbit 0\n",
    "\n",
    "#qc.measure(0,0)\n",
    "qc.draw(output='mpl')"
   ]
  },
  {
   "cell_type": "code",
   "execution_count": 88,
   "metadata": {},
   "outputs": [],
   "source": [
    "#print('Results for z measurement:')\n",
    "#counts = execute(qc,Aer.get_backend('qasm_simulator')).result().get_counts()\n",
    "#plot_histogram(counts) #do the simulation by getting the Aer backend end, and plot the histogram results, remember the default shots is 1024"
   ]
  },
  {
   "cell_type": "code",
   "execution_count": 89,
   "metadata": {},
   "outputs": [
    {
     "name": "stdout",
     "output_type": "stream",
     "text": [
      "The total uncertainty is 1.0030852109193802\n"
     ]
    }
   ],
   "source": [
    "shots = 2**14 # number of samples used for statistics\n",
    "\n",
    "uncertainty = 0\n",
    "for measure_circuit in [measure_z, measure_x]:\n",
    "\n",
    "    # run the circuit with a the selected measurement and get the number of samples that output each bit value\n",
    "    counts = execute(qc+measure_circuit,Aer.get_backend('qasm_simulator'),shots=shots).result().get_counts()\n",
    "\n",
    "    # calculate the probabilities for each bit value\n",
    "    probs = {}\n",
    "    for output in ['0','1']:\n",
    "        if output in counts:\n",
    "            probs[output] = counts[output]/shots\n",
    "        else:\n",
    "            probs[output] = 0\n",
    "            \n",
    "    uncertainty += ( probs['0'] -  probs['1'] )**2\n",
    "\n",
    "# print the total uncertainty\n",
    "print('The total uncertainty is',uncertainty )"
   ]
  },
  {
   "cell_type": "code",
   "execution_count": 90,
   "metadata": {},
   "outputs": [
    {
     "data": {
      "image/png": "[encoded data removed]",
      "text/plain": [
       "<Figure size 474.376x144.48 with 1 Axes>"
      ]
     },
     "execution_count": 90,
     "metadata": {},
     "output_type": "execute_result"
    }
   ],
   "source": [
    "# for the following, replace theta by any number\n",
    "theta = 3.14159/2\n",
    "qc.rx(theta,0); # x axis rotation\n",
    "qc.draw(output='mpl')"
   ]
  },
  {
   "cell_type": "code",
   "execution_count": 91,
   "metadata": {},
   "outputs": [],
   "source": [
    "# y measurement of qubit 0\n",
    "measure_y = QuantumCircuit(1,1)\n",
    "measure_y.sdg(0)\n",
    "measure_y.h(0)\n",
    "measure_y.measure(0,0);"
   ]
  },
  {
   "cell_type": "code",
   "execution_count": 92,
   "metadata": {},
   "outputs": [
    {
     "name": "stdout",
     "output_type": "stream",
     "text": [
      "The total uncertainty is 1.0104508101940155\n"
     ]
    }
   ],
   "source": [
    "shots = 2**14 # number of samples used for statistics\n",
    "\n",
    "uncertainty = 0\n",
    "for measure_circuit in [measure_z, measure_x, measure_y]:\n",
    "\n",
    "    # run the circuit with a the selected measurement and get the number of samples that output each bit value\n",
    "    counts = execute(qc+measure_circuit,Aer.get_backend('qasm_simulator'),shots=shots).result().get_counts()\n",
    "\n",
    "    # calculate the probabilities for each bit value\n",
    "    probs = {}\n",
    "    for output in ['0','1']:\n",
    "        if output in counts:\n",
    "            probs[output] = counts[output]/shots\n",
    "        else:\n",
    "            probs[output] = 0\n",
    "            \n",
    "    uncertainty += ( probs['0'] -  probs['1'] )**2\n",
    "\n",
    "# print the total uncertainty\n",
    "print('The total uncertainty is',uncertainty )"
   ]
  },
  {
   "cell_type": "code",
   "execution_count": null,
   "metadata": {},
   "outputs": [],
   "source": []
  }
 ],
 "metadata": {
  "kernelspec": {
   "display_name": "Python 3",
   "language": "python",
   "name": "python3"
  },
  "language_info": {
   "codemirror_mode": {
    "name": "ipython",
    "version": 3
   },
   "file_extension": ".py",
   "mimetype": "text/x-python",
   "name": "python",
   "nbconvert_exporter": "python",
   "pygments_lexer": "ipython3",
   "version": "3.7.4"
  }
 },
 "nbformat": 4,
 "nbformat_minor": 4
}
