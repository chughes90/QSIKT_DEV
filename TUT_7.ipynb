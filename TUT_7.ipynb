{
 "cells": [
  {
   "cell_type": "code",
   "execution_count": 1,
   "metadata": {},
   "outputs": [],
   "source": [
    "#IMPORTS\n",
    "import qiskit\n",
    "import numpy as np\n",
    "from qiskit import *\n",
    "from qiskit.visualization import plot_histogram\n",
    "from qiskit.visualization import plot_bloch_vector"
   ]
  },
  {
   "cell_type": "code",
   "execution_count": 3,
   "metadata": {},
   "outputs": [
    {
     "data": {
      "image/png": "[encoded data removed]",
      "text/plain": [
       "<Figure size 173.376x144.48 with 1 Axes>"
      ]
     },
     "execution_count": 3,
     "metadata": {},
     "output_type": "execute_result"
    }
   ],
   "source": [
    "measure_z = QuantumCircuit(1,1) #make quantum circuit with one qbit and 1 classical bit\n",
    "measure_z.measure(0,0); #map the 0th qbit to the 0th classical bit\n",
    "\n",
    "measure_z.draw(output='mpl') #draw the circuit"
   ]
  },
  {
   "cell_type": "code",
   "execution_count": 4,
   "metadata": {},
   "outputs": [
    {
     "data": {
      "image/png": "[encoded data removed]",
      "text/plain": [
       "<Figure size 293.776x144.48 with 1 Axes>"
      ]
     },
     "execution_count": 4,
     "metadata": {},
     "output_type": "execute_result"
    }
   ],
   "source": [
    "measure_y = QuantumCircuit(1,1) #make quantum circuit with one qbit and 1 classical bit\n",
    "measure_y.sdg(0) #sadgoint gate on 0th qbit\n",
    "measure_y.h(0) #hadamard gate on 0th qbit\n",
    "measure_y.measure(0,0);  #map the 0th qbit to the 0th classical bit\n",
    "\n",
    "measure_y.draw(output='mpl') #draw the circuit"
   ]
  },
  {
   "cell_type": "code",
   "execution_count": 5,
   "metadata": {},
   "outputs": [
    {
     "data": {
      "image/png": "[encoded data removed]",
      "text/plain": [
       "<Figure size 216.72x144.48 with 1 Axes>"
      ]
     },
     "execution_count": 5,
     "metadata": {},
     "output_type": "execute_result"
    }
   ],
   "source": [
    "# set up circuit (no measurements required)\n",
    "qc = QuantumCircuit(2) #quantum circuit with 2 qbits\n",
    "qc.x(0) # qubits numbered from the right, so qubit 0 is the qubit on the right\n",
    "qc.z(1) # and qubit 1 is on the left\n",
    "\n",
    "qc.draw(output='mpl') #draw the circuit\n"
   ]
  },
  {
   "cell_type": "code",
   "execution_count": 6,
   "metadata": {},
   "outputs": [
    {
     "data": {
      "text/markdown": [
       "\\begin{pmatrix}0j&(1+0j)&0j&0j\\\\(1+0j)&0j&0j&0j\\\\0j&0j&0j&(-1+0j)\\\\0j&0j&(-1+0j)&\\end{pmatrix}"
      ],
      "text/plain": [
       "<IPython.core.display.Markdown object>"
      ]
     },
     "metadata": {},
     "output_type": "display_data"
    }
   ],
   "source": [
    "# set up simulator that returns statevectors\n",
    "backend = Aer.get_backend('unitary_simulator')\n",
    "\n",
    "# run the circuit to get the matrix\n",
    "gate = execute(qc,backend).result().get_unitary()\n",
    "\n",
    "# now we use some fanciness to display it in latex\n",
    "from IPython.display import display, Markdown, Latex\n",
    "gate_latex = '\\\\begin{pmatrix}'\n",
    "for line in gate:\n",
    "    for element in line:\n",
    "        gate_latex += str(element) + '&'\n",
    "    gate_latex  = gate_latex[0:-1]\n",
    "    gate_latex +=  '\\\\\\\\'\n",
    "gate_latex  = gate_latex[0:-4]\n",
    "gate_latex += '\\end{pmatrix}'\n",
    "display(Markdown(gate_latex))"
   ]
  },
  {
   "cell_type": "code",
   "execution_count": 7,
   "metadata": {},
   "outputs": [],
   "source": [
    "#Mulitple qbit gates"
   ]
  },
  {
   "cell_type": "code",
   "execution_count": 30,
   "metadata": {},
   "outputs": [
    {
     "data": {
      "image/png": "[encoded data removed]",
      "text/plain": [
       "<Figure size 276.92x144.48 with 1 Axes>"
      ]
     },
     "execution_count": 30,
     "metadata": {},
     "output_type": "execute_result"
    }
   ],
   "source": [
    "#CX or controlled not or targeted x gate\n",
    "\n",
    "qc1 = QuantumCircuit(2) #quantum circuit with 2 qbits\n",
    "cr1 = ClassicalRegister(2)\n",
    "qc1.x(0) # qubits numbered from the right, so qubit 0 is the qubit on the right\n",
    "qc1.cx(0,1) # CNOT controlled on qubit 0 with qubit 1 as target\n",
    "qc1.draw(output='mpl') #draw the circuit"
   ]
  },
  {
   "cell_type": "code",
   "execution_count": 34,
   "metadata": {},
   "outputs": [],
   "source": [
    "qc1.add_register(cr1)"
   ]
  },
  {
   "cell_type": "code",
   "execution_count": 35,
   "metadata": {},
   "outputs": [
    {
     "data": {
      "image/png": "[encoded data removed]",
      "text/plain": [
       "<Figure size 397.32x204.68 with 1 Axes>"
      ]
     },
     "execution_count": 35,
     "metadata": {},
     "output_type": "execute_result"
    }
   ],
   "source": [
    "qc1.measure(0,0) #MEASURE THE QUANTUM CIRCUIT (COLLAPSE THE WAVEFUNCTION) BY MAPPING TO CLASSICAL BITS\n",
    "qc1.measure(1,1)\n",
    "qc1.draw(output='mpl') #draw the circuit"
   ]
  },
  {
   "cell_type": "code",
   "execution_count": 28,
   "metadata": {},
   "outputs": [
    {
     "data": {
      "image/png": "[encoded data removed]",
      "text/plain": [
       "<Figure size 276.92x144.48 with 1 Axes>"
      ]
     },
     "execution_count": 28,
     "metadata": {},
     "output_type": "execute_result"
    }
   ],
   "source": [
    "#CY or controlled not or targeted Y gate\n",
    "qc2 = QuantumCircuit(2) #quantum circuit with 2 qbits\n",
    "cr2 = ClassicalRegister(2)\n",
    "qc2.h(0) # qubits numbered from the right, so qubit 0 is the qubit on the right\n",
    "qc2.cy(0,1) # CY controlled on qubit 0 with qubit 1 as target\n",
    "qc2.draw(output='mpl') #draw the circuit"
   ]
  },
  {
   "cell_type": "code",
   "execution_count": 36,
   "metadata": {},
   "outputs": [
    {
     "data": {
      "image/png": "[encoded data removed]",
      "text/plain": [
       "<Figure size 397.32x204.68 with 1 Axes>"
      ]
     },
     "execution_count": 36,
     "metadata": {},
     "output_type": "execute_result"
    }
   ],
   "source": [
    "qc2.add_register(cr1)\n",
    "qc2.measure(0,0) #MEASURE THE QUANTUM CIRCUIT (COLLAPSE THE WAVEFUNCTION) BY MAPPING TO CLASSICAL BITS\n",
    "qc2.measure(1,1)\n",
    "qc2.draw(output='mpl') #draw the circuit"
   ]
  },
  {
   "cell_type": "code",
   "execution_count": 37,
   "metadata": {},
   "outputs": [
    {
     "data": {
      "image/png": "[encoded data removed]",
      "text/plain": [
       "<Figure size 276.92x144.48 with 1 Axes>"
      ]
     },
     "execution_count": 37,
     "metadata": {},
     "output_type": "execute_result"
    }
   ],
   "source": [
    "#CZ or controlled not or targeted Z gate\n",
    "qc3 = QuantumCircuit(2) #quantum circuit with 2 qbits\n",
    "cr3 = ClassicalRegister(2)\n",
    "qc3.h(0) # qubits numbered from the right, so qubit 0 is the qubit on the right\n",
    "qc3.cz(0,1) # CZ controlled on qubit 0 with qubit 1 as target\n",
    "qc3.draw(output='mpl') #draw the circuit"
   ]
  },
  {
   "cell_type": "code",
   "execution_count": 38,
   "metadata": {},
   "outputs": [
    {
     "data": {
      "image/png": "[encoded data removed]",
      "text/plain": [
       "<Figure size 397.32x204.68 with 1 Axes>"
      ]
     },
     "execution_count": 38,
     "metadata": {},
     "output_type": "execute_result"
    }
   ],
   "source": [
    "qc3.add_register(cr3)\n",
    "qc3.measure(0,0) #MEASURE THE QUANTUM CIRCUIT (COLLAPSE THE WAVEFUNCTION) BY MAPPING TO CLASSICAL BITS\n",
    "qc3.measure(1,1)\n",
    "qc3.draw(output='mpl') #draw the circuit"
   ]
  },
  {
   "cell_type": "code",
   "execution_count": 39,
   "metadata": {},
   "outputs": [
    {
     "data": {
      "image/png": "[encoded data removed]",
      "text/plain": [
       "<Figure size 276.92x204.68 with 1 Axes>"
      ]
     },
     "execution_count": 39,
     "metadata": {},
     "output_type": "execute_result"
    }
   ],
   "source": [
    "#CCX or Toffoli gate\n",
    "qc4 = QuantumCircuit(3) #quantum circuit with 3 qbits\n",
    "cr4 = ClassicalRegister(3)\n",
    "qc4.h(0) # qubits numbered from the right, so qubit 0 is the qubit on the right\n",
    "qc4.ccx(0,1,2) # Toffoli controlled on qubits 0 and 1 with qubit 2 as target\n",
    "qc4.draw(output='mpl') #draw the circuit"
   ]
  },
  {
   "cell_type": "code",
   "execution_count": 40,
   "metadata": {},
   "outputs": [
    {
     "data": {
      "image/png": "[encoded data removed]",
      "text/plain": [
       "<Figure size 457.52x264.88 with 1 Axes>"
      ]
     },
     "execution_count": 40,
     "metadata": {},
     "output_type": "execute_result"
    }
   ],
   "source": [
    "qc4.add_register(cr4)\n",
    "qc4.measure(0,0) #MEASURE THE QUANTUM CIRCUIT (COLLAPSE THE WAVEFUNCTION) BY MAPPING TO CLASSICAL BITS\n",
    "qc4.measure(1,1)\n",
    "qc4.measure(2,2)\n",
    "qc4.draw(output='mpl') #draw the circuit"
   ]
  },
  {
   "cell_type": "code",
   "execution_count": null,
   "metadata": {},
   "outputs": [],
   "source": []
  }
 ],
 "metadata": {
  "kernelspec": {
   "display_name": "Python 3",
   "language": "python",
   "name": "python3"
  },
  "language_info": {
   "codemirror_mode": {
    "name": "ipython",
    "version": 3
   },
   "file_extension": ".py",
   "mimetype": "text/x-python",
   "name": "python",
   "nbconvert_exporter": "python",
   "pygments_lexer": "ipython3",
   "version": "3.7.4"
  }
 },
 "nbformat": 4,
 "nbformat_minor": 4
}
