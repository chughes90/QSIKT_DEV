{
 "cells": [
  {
   "cell_type": "code",
   "execution_count": 30,
   "metadata": {},
   "outputs": [],
   "source": [
    "#IMPORTS\n",
    "import qiskit\n",
    "import numpy as np\n",
    "from qiskit import *"
   ]
  },
  {
   "cell_type": "code",
   "execution_count": 31,
   "metadata": {},
   "outputs": [],
   "source": [
    "qc = QuantumCircuit() #create a quantumc circuit"
   ]
  },
  {
   "cell_type": "code",
   "execution_count": 32,
   "metadata": {},
   "outputs": [],
   "source": [
    "qr = QuantumRegister(2,'qreg') #Define a two bit quantum register with name qreg"
   ]
  },
  {
   "cell_type": "code",
   "execution_count": 33,
   "metadata": {},
   "outputs": [
    {
     "data": {
      "text/plain": [
       "[QuantumRegister(2, 'qreg')]"
      ]
     },
     "execution_count": 33,
     "metadata": {},
     "output_type": "execute_result"
    }
   ],
   "source": [
    "qc.add_register( qr ) #Add the register to the quantum circuit\n",
    "\n",
    "qc.qregs # check to see that it has been added"
   ]
  },
  {
   "cell_type": "code",
   "execution_count": 34,
   "metadata": {},
   "outputs": [
    {
     "data": {
      "image/png": "[encoded data removed]",
      "text/plain": [
       "<Figure size 189.028x144.48 with 1 Axes>"
      ]
     },
     "execution_count": 34,
     "metadata": {},
     "output_type": "execute_result"
    }
   ],
   "source": [
    "qc.draw(output='mpl') #visualize the circuit which currently has a 2 bit quantum register on it"
   ]
  },
  {
   "cell_type": "code",
   "execution_count": 35,
   "metadata": {},
   "outputs": [],
   "source": [
    "# At this point you have two qbits in |0> state"
   ]
  },
  {
   "cell_type": "code",
   "execution_count": 36,
   "metadata": {},
   "outputs": [
    {
     "ename": "TypeError",
     "evalue": "h() missing 1 required positional argument: 'q'",
     "output_type": "error",
     "traceback": [
      "\u001b[1;31m---------------------------------------------------------------------------\u001b[0m",
      "\u001b[1;31mTypeError\u001b[0m                                 Traceback (most recent call last)",
      "\u001b[1;32m<ipython-input-36-a452c1624003>\u001b[0m in \u001b[0;36m<module>\u001b[1;34m\u001b[0m\n\u001b[1;32m----> 1\u001b[1;33m \u001b[0mqc\u001b[0m\u001b[1;33m.\u001b[0m\u001b[0mh\u001b[0m\u001b[1;33m(\u001b[0m\u001b[1;33m)\u001b[0m \u001b[1;31m#this line will error out, you must tell the quantum circuit WHICH bit the H gate acts on\u001b[0m\u001b[1;33m\u001b[0m\u001b[1;33m\u001b[0m\u001b[0m\n\u001b[0m",
      "\u001b[1;31mTypeError\u001b[0m: h() missing 1 required positional argument: 'q'"
     ]
    }
   ],
   "source": [
    "qc.h() #this line will error out, you must tell the quantum circuit WHICH bit the H gate acts on"
   ]
  },
  {
   "cell_type": "code",
   "execution_count": 37,
   "metadata": {},
   "outputs": [
    {
     "data": {
      "text/plain": [
       "<qiskit.circuit.instructionset.InstructionSet at 0x5565588>"
      ]
     },
     "execution_count": 37,
     "metadata": {},
     "output_type": "execute_result"
    }
   ],
   "source": [
    "qc.h( qr[0] ) #Add an H (Hadamard) gate to the circuit and tell it to ACT on the 0th QBIT in the register"
   ]
  },
  {
   "cell_type": "code",
   "execution_count": 38,
   "metadata": {},
   "outputs": [],
   "source": [
    "qc.cx( qr[0], qr[1] ); #Add a CX or controlled not gate. When qr[0] == 1, then we NOT qr[1]"
   ]
  },
  {
   "cell_type": "code",
   "execution_count": 39,
   "metadata": {},
   "outputs": [
    {
     "data": {
      "image/png": "[encoded data removed]",
      "text/plain": [
       "<Figure size 309.428x144.48 with 1 Axes>"
      ]
     },
     "execution_count": 39,
     "metadata": {},
     "output_type": "execute_result"
    }
   ],
   "source": [
    "qc.draw(output='mpl') #Visualize the Hadamard NOT gate. When qr[0] == kTRUE, then we NOT[qr[1]]"
   ]
  },
  {
   "cell_type": "code",
   "execution_count": 40,
   "metadata": {},
   "outputs": [],
   "source": [
    "vector_sim = Aer.get_backend('statevector_simulator') #Time to run some simulation with the statevector simulator"
   ]
  },
  {
   "cell_type": "code",
   "execution_count": 41,
   "metadata": {},
   "outputs": [
    {
     "data": {
      "text/plain": [
       "[<QasmSimulator('qasm_simulator') from AerProvider()>,\n",
       " <StatevectorSimulator('statevector_simulator') from AerProvider()>,\n",
       " <UnitarySimulator('unitary_simulator') from AerProvider()>]"
      ]
     },
     "execution_count": 41,
     "metadata": {},
     "output_type": "execute_result"
    }
   ],
   "source": [
    "Aer.backends() #List the possible backends of the Aer Simulator (QASM, STATEVECTOR, and UNITARY)"
   ]
  },
  {
   "cell_type": "code",
   "execution_count": 42,
   "metadata": {},
   "outputs": [],
   "source": [
    "job = execute( qc, vector_sim ) #RUN THE SIMULATION USING THE BACKEND YOU LOADED AND THE circuit you made"
   ]
  },
  {
   "cell_type": "code",
   "execution_count": 43,
   "metadata": {},
   "outputs": [
    {
     "name": "stdout",
     "output_type": "stream",
     "text": [
      "(0.7071067811865476+0j)\n",
      "0j\n",
      "0j\n",
      "(0.7071067811865476+0j)\n"
     ]
    }
   ],
   "source": [
    "ket = job.result().get_statevector()\n",
    "for amplitude in ket:\n",
    "    print(amplitude)"
   ]
  },
  {
   "cell_type": "code",
   "execution_count": 44,
   "metadata": {},
   "outputs": [
    {
     "data": {
      "image/png": "[encoded data removed]",
      "text/plain": [
       "<Figure size 550.228x144.48 with 1 Axes>"
      ]
     },
     "execution_count": 44,
     "metadata": {},
     "output_type": "execute_result"
    }
   ],
   "source": [
    "#Initialize a circuit with a pure state 1/sqrt(2) * ( |00> + 0*|01> + 0*|10> + |11>)\n",
    "new_qc = QuantumCircuit( qr ) #Our register is now the bell state\n",
    "\n",
    "new_qc.initialize( ket, qr ) #make a state from the bell state\n",
    "\n",
    "new_qc.draw(output='mpl')"
   ]
  },
  {
   "cell_type": "code",
   "execution_count": 45,
   "metadata": {},
   "outputs": [],
   "source": [
    "cr = ClassicalRegister(2,'creg') #You DO NOT get state vectors from quantum measurements you get probability distributions!!\n",
    "# so map QBITS to classical bits or map quantumr registers to classical registers\n",
    "\n",
    "qc.add_register(cr) #created classical register with name 'creg' and add it to quantum circuit"
   ]
  },
  {
   "cell_type": "code",
   "execution_count": 46,
   "metadata": {},
   "outputs": [
    {
     "data": {
      "image/png": "[encoded data removed]",
      "text/plain": [
       "<Figure size 429.828x204.68 with 1 Axes>"
      ]
     },
     "execution_count": 46,
     "metadata": {},
     "output_type": "execute_result"
    }
   ],
   "source": [
    "qc.measure(qr[0],cr[0]) #MEASURE THE QUANTUM CIRCUIT (COLLAPSE THE WAVEFUNCTION) BY MAPPING TO CLASSICAL BITS\n",
    "qc.measure(qr[1],cr[1])\n",
    "\n",
    "qc.draw(output='mpl')"
   ]
  },
  {
   "cell_type": "code",
   "execution_count": 50,
   "metadata": {},
   "outputs": [],
   "source": [
    "emulator = Aer.get_backend('qasm_simulator') #GET THE SIMULATOR BACKEND (NO NOISE)\n",
    "\n",
    "job = execute( qc, emulator, shots=100000 ) #SIMULATE THE QC DRAWN ABOVE FOR 8192 ITERATIONS"
   ]
  },
  {
   "cell_type": "code",
   "execution_count": 51,
   "metadata": {},
   "outputs": [
    {
     "name": "stdout",
     "output_type": "stream",
     "text": [
      "{'00': 49865, '11': 50135}\n"
     ]
    }
   ],
   "source": [
    "hist = job.result().get_counts() #GET THE RESULT OF THE SIMULATOR AND PRINT \n",
    "print(hist)"
   ]
  },
  {
   "cell_type": "code",
   "execution_count": 52,
   "metadata": {},
   "outputs": [
    {
     "data": {
      "image/png": "[encoded data removed]",
      "text/plain": [
       "<Figure size 504x360 with 1 Axes>"
      ]
     },
     "execution_count": 52,
     "metadata": {},
     "output_type": "execute_result"
    }
   ],
   "source": [
    "from qiskit.tools.visualization import plot_histogram #PLOT\n",
    "\n",
    "plot_histogram( hist )"
   ]
  },
  {
   "cell_type": "code",
   "execution_count": 53,
   "metadata": {},
   "outputs": [
    {
     "name": "stdout",
     "output_type": "stream",
     "text": [
      "['00', '00', '11', '00', '00', '11', '11', '11', '11', '00']\n"
     ]
    }
   ],
   "source": [
    "job = execute( qc, emulator, shots=10, memory=True )#FOR 10 shots, get the result and plot\n",
    "samples = job.result().get_memory()\n",
    "print(samples) #note 0th bit is on the RIGHT"
   ]
  },
  {
   "cell_type": "code",
   "execution_count": 54,
   "metadata": {},
   "outputs": [
    {
     "data": {
      "image/png": "[encoded data removed]",
      "text/plain": [
       "<Figure size 227.556x565.88 with 1 Axes>"
      ]
     },
     "execution_count": 54,
     "metadata": {},
     "output_type": "execute_result"
    }
   ],
   "source": [
    "qubit = QuantumRegister(8) #CREATE QUANTUM REGISTER WITH 8 QBITS\n",
    "bit = ClassicalRegister(8) #CREATE CLASSICAL REGISTER WITH 8 BITS\n",
    "circuit = QuantumCircuit(qubit,bit)# CREATE THE QUANTUM CIRCUIT WITH THE MAPPING\n",
    "circuit.x(qubit[7]) #ADD PAULI MATRIX SIGMA_X = { {0,1} , {1,0}}\n",
    "circuit.draw(output='mpl')"
   ]
  },
  {
   "cell_type": "code",
   "execution_count": 56,
   "metadata": {},
   "outputs": [
    {
     "data": {
      "text/plain": [
       "{'10000000': 8192}"
      ]
     },
     "execution_count": 56,
     "metadata": {},
     "output_type": "execute_result"
    }
   ],
   "source": [
    "circuit.measure(qubit,bit) # this is a way to do all the qc.measure(qr8[j],cr8[j]) at once and define the quantum -> classical mapping\n",
    "\n",
    "execute( circuit, emulator, shots=8192 ).result().get_counts() #note 0th bit is on the right , 7th bit farthest left"
   ]
  },
  {
   "cell_type": "code",
   "execution_count": 57,
   "metadata": {},
   "outputs": [],
   "source": [
    "qc = QuantumCircuit(3)"
   ]
  },
  {
   "cell_type": "code",
   "execution_count": 58,
   "metadata": {},
   "outputs": [
    {
     "data": {
      "image/png": "[encoded data removed]",
      "text/plain": [
       "<Figure size 216.72x204.68 with 1 Axes>"
      ]
     },
     "execution_count": 58,
     "metadata": {},
     "output_type": "execute_result"
    }
   ],
   "source": [
    "qc.h(1) #add hadamard gate to 1st qbit\n",
    "\n",
    "qc.draw(output='mpl')"
   ]
  },
  {
   "cell_type": "code",
   "execution_count": 59,
   "metadata": {},
   "outputs": [],
   "source": [
    "qc = QuantumCircuit(2,1) #define a 2 qbit circuit which maps to 1 classical bit only"
   ]
  },
  {
   "cell_type": "code",
   "execution_count": 60,
   "metadata": {},
   "outputs": [
    {
     "data": {
      "image/png": "[encoded data removed]",
      "text/plain": [
       "<Figure size 337.12x204.68 with 1 Axes>"
      ]
     },
     "execution_count": 60,
     "metadata": {},
     "output_type": "execute_result"
    }
   ],
   "source": [
    "qc.h(0) #add a hadamard gate to qbit 0\n",
    "qc.cx(0,1) #add a contral not gate with 0th qbit as control and 1st qbit as target\n",
    "qc.measure(1,0) #make the measurment of the 1st qbit and map to 0th classical bt\n",
    "\n",
    "qc.draw(output='mpl')"
   ]
  },
  {
   "cell_type": "code",
   "execution_count": 61,
   "metadata": {},
   "outputs": [
    {
     "data": {
      "image/png": "[encoded data removed]",
      "text/plain": [
       "<Figure size 397.32x204.68 with 1 Axes>"
      ]
     },
     "execution_count": 61,
     "metadata": {},
     "output_type": "execute_result"
    }
   ],
   "source": [
    "sub_circuit = QuantumCircuit(3, name='toggle_cx') #create 3 bit register\n",
    "sub_circuit.cx(0,1) #controlled not gate with 0th qbit as control and 1st qbit as target\n",
    "sub_circuit.cx(1,2) #controlled not gate with 1st qbit as control and 2nd qbit as target\n",
    "sub_circuit.cx(0,1) #controlled not gate with 2nd qbit as control and 1st qbit as target\n",
    "sub_circuit.cx(1,2) #controlled not gate with 1st qbit as control and 2nd qbit as target\n",
    "\n",
    "sub_circuit.draw(output='mpl')"
   ]
  },
  {
   "cell_type": "code",
   "execution_count": 62,
   "metadata": {},
   "outputs": [],
   "source": [
    "toggle_cx = sub_circuit.to_instruction() #turn this into a gate"
   ]
  },
  {
   "cell_type": "code",
   "execution_count": 63,
   "metadata": {},
   "outputs": [
    {
     "data": {
      "image/png": "[encoded data removed]",
      "text/plain": [
       "<Figure size 287.756x264.88 with 1 Axes>"
      ]
     },
     "execution_count": 63,
     "metadata": {},
     "output_type": "execute_result"
    }
   ],
   "source": [
    "qr = QuantumRegister(4) #create quantum register with 4 qbits\n",
    "new_qc = QuantumCircuit(qr) #Add 4 qbit register to quantum circuit\n",
    "\n",
    "new_qc.append(toggle_cx, [qr[1],qr[2],qr[3]]) #append custom gate to output of last 3 qbits\n",
    "\n",
    "new_qc.draw(output='mpl')"
   ]
  },
  {
   "cell_type": "code",
   "execution_count": 64,
   "metadata": {},
   "outputs": [
    {
     "data": {
      "text/plain": [
       "<AccountProvider for IBMQ(hub='ibm-q', group='open', project='main')>"
      ]
     },
     "execution_count": 64,
     "metadata": {},
     "output_type": "execute_result"
    }
   ],
   "source": [
    "IBMQ.load_account() #lets actually access the hardware"
   ]
  },
  {
   "cell_type": "code",
   "execution_count": 65,
   "metadata": {},
   "outputs": [
    {
     "data": {
      "text/plain": [
       "[<IBMQSimulator('ibmq_qasm_simulator') from IBMQ(hub='ibm-q', group='open', project='main')>,\n",
       " <IBMQBackend('ibmqx2') from IBMQ(hub='ibm-q', group='open', project='main')>,\n",
       " <IBMQBackend('ibmq_16_melbourne') from IBMQ(hub='ibm-q', group='open', project='main')>,\n",
       " <IBMQBackend('ibmq_vigo') from IBMQ(hub='ibm-q', group='open', project='main')>,\n",
       " <IBMQBackend('ibmq_ourense') from IBMQ(hub='ibm-q', group='open', project='main')>]"
      ]
     },
     "execution_count": 65,
     "metadata": {},
     "output_type": "execute_result"
    }
   ],
   "source": [
    "provider = IBMQ.get_provider(hub='ibm-q') #check which backends you have available\n",
    "provider.backends()"
   ]
  },
  {
   "cell_type": "code",
   "execution_count": 66,
   "metadata": {},
   "outputs": [
    {
     "name": "stdout",
     "output_type": "stream",
     "text": [
      "BackendStatus(backend_name='ibmq_qasm_simulator', backend_version='0.0.0', operational=True, pending_jobs=0, status_msg='active')\n",
      "BackendStatus(backend_name='ibmqx2', backend_version='2.0.0', operational=True, pending_jobs=1, status_msg='active')\n",
      "BackendStatus(backend_name='ibmq_16_melbourne', backend_version='1.0.0', operational=True, pending_jobs=4, status_msg='active')\n",
      "BackendStatus(backend_name='ibmq_vigo', backend_version='1.0.0', operational=True, pending_jobs=0, status_msg='active')\n",
      "BackendStatus(backend_name='ibmq_ourense', backend_version='1.0.0', operational=True, pending_jobs=1, status_msg='active')\n"
     ]
    }
   ],
   "source": [
    "for backend in provider.backends(): #check what the status of each backend is\n",
    "    print( backend.status() )"
   ]
  },
  {
   "cell_type": "code",
   "execution_count": 67,
   "metadata": {},
   "outputs": [],
   "source": [
    "real_device = provider.get_backend('ibmq_16_melbourne') #get backend for the 16 qbit device"
   ]
  },
  {
   "cell_type": "code",
   "execution_count": 68,
   "metadata": {},
   "outputs": [],
   "source": [
    "properties = real_device.properties() #get device properties\n",
    "coupling_map = real_device.configuration().coupling_map #get coupling map and configuration"
   ]
  },
  {
   "cell_type": "code",
   "execution_count": 70,
   "metadata": {},
   "outputs": [],
   "source": [
    "from qiskit.providers.aer import noise #import noise functions\n",
    "\n",
    "noise_model = noise.device.basic_device_noise_model(properties) #create noise model objects"
   ]
  },
  {
   "cell_type": "code",
   "execution_count": 71,
   "metadata": {},
   "outputs": [
    {
     "data": {
      "text/plain": [
       "{'01': 6, '00': 43, '11': 21, '10': 954}"
      ]
     },
     "execution_count": 71,
     "metadata": {},
     "output_type": "execute_result"
    }
   ],
   "source": [
    "qc = QuantumCircuit(2,2) #create a 2 qbit, 2 classical bit register\n",
    "qc.x(1) # add a not gate to 1st qbit\n",
    "qc.measure(0,0) #measure and map zeroth qbit to zeroth classical bit\n",
    "qc.measure(1,1) #measure and map 1st qbit to first classical bit\n",
    "\n",
    "job = execute(qc, emulator, shots=1024, noise_model=noise_model,\n",
    "                    coupling_map=coupling_map,\n",
    "                    basis_gates=noise_model.basis_gates) #run with realistic noise and coupling as well as basis gate\n",
    "\n",
    "job.result().get_counts()"
   ]
  },
  {
   "cell_type": "code",
   "execution_count": 72,
   "metadata": {},
   "outputs": [
    {
     "data": {
      "image/png": "[encoded data removed]",
      "text/plain": [
       "<Figure size 337.12x204.68 with 1 Axes>"
      ]
     },
     "execution_count": 72,
     "metadata": {},
     "output_type": "execute_result"
    }
   ],
   "source": [
    "qc.draw(output='mpl')"
   ]
  },
  {
   "cell_type": "code",
   "execution_count": null,
   "metadata": {},
   "outputs": [],
   "source": []
  }
 ],
 "metadata": {
  "kernelspec": {
   "display_name": "Python 3",
   "language": "python",
   "name": "python3"
  },
  "language_info": {
   "codemirror_mode": {
    "name": "ipython",
    "version": 3
   },
   "file_extension": ".py",
   "mimetype": "text/x-python",
   "name": "python",
   "nbconvert_exporter": "python",
   "pygments_lexer": "ipython3",
   "version": "3.7.4"
  }
 },
 "nbformat": 4,
 "nbformat_minor": 4
}
